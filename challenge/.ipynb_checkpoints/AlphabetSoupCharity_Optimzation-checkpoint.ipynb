{
 "cells": [
  {
   "cell_type": "markdown",
   "id": "a7ab7a90",
   "metadata": {},
   "source": [
    "# Deliverable 3: Optimize the Model"
   ]
  },
  {
   "cell_type": "code",
   "execution_count": 1,
   "id": "70db5041",
   "metadata": {},
   "outputs": [],
   "source": [
    "# Import our dependencies\n",
    "from sklearn.model_selection import train_test_split\n",
    "from sklearn.preprocessing import StandardScaler,OneHotEncoder\n",
    "import pandas as pd\n",
    "import tensorflow as tf\n",
    "import keras_tuner as kt"
   ]
  },
  {
   "cell_type": "code",
   "execution_count": 2,
   "id": "a3d8a9eb",
   "metadata": {},
   "outputs": [],
   "source": [
    "# Create a method that creates a new Sequential model with hyperparameter options\n",
    "def create_model(hp):\n",
    "    nn_model = tf.keras.models.Sequential()\n",
    "\n",
    "    # Allow kerastuner to decide which activation function to use in hidden layers\n",
    "    activation = hp.Choice('activation',['relu','tanh','sigmoid'])\n",
    "    \n",
    "    # Allow kerastuner to decide number of neurons in first layer\n",
    "    nn_model.add(tf.keras.layers.Dense(units=hp.Int('first_units',\n",
    "        min_value=50,\n",
    "        max_value=200,\n",
    "        step=25), activation=activation, input_dim=len(X_train_scaled[0])))\n",
    "    \n",
    "    # Allow kerastuner to decide number of hidden layers and neurons in hidden layers\n",
    "    for i in range(hp.Int('num_layers', 1, 6)):\n",
    "        nn_model.add(tf.keras.layers.Dense(units=hp.Int('units_' + str(i),\n",
    "            min_value=5,\n",
    "            max_value=100,\n",
    "            step=5),\n",
    "            activation=activation))\n",
    "    \n",
    "    nn_model.add(tf.keras.layers.Dense(units=1, activation=\"sigmoid\"))\n",
    "    \n",
    "    # Compile the model\n",
    "    nn_model.compile(loss=\"binary_crossentropy\", optimizer='adam', metrics=[\"accuracy\"])\n",
    "    \n",
    "    return nn_model"
   ]
  },
  {
   "cell_type": "code",
   "execution_count": 3,
   "id": "aa8d0bb1",
   "metadata": {},
   "outputs": [],
   "source": [
    "# Creating a function for binning a column of a data frame given a minimum count value\n",
    "def binning(df, col, min_count):\n",
    "    counts = df[col].value_counts()\n",
    "    to_replace = list(counts[counts < min_count].index)\n",
    "    \n",
    "    for rep in to_replace:\n",
    "        df[col] = df[col].replace(rep, \"Other\")\n",
    "    \n",
    "    return df"
   ]
  },
  {
   "cell_type": "code",
   "execution_count": 4,
   "id": "75e43cb8",
   "metadata": {},
   "outputs": [],
   "source": [
    "# Import and read the charity_data.csv.\n",
    "application_raw_df = pd.read_csv(\"data/charity_data.csv\")\n",
    "\n",
    "# Drop the non-beneficial ID columns, 'EIN' and 'NAME'.\n",
    "application_df = application_raw_df.drop([\"EIN\", \"NAME\"], 1)\n",
    "\n",
    "# Tested dropping the \"INCOME_AMT\", and \"USE_CASE\" columns, but did not improve accuracy\n",
    "\n",
    "# Look at APPLICATION_TYPE value counts for binning\n",
    "application_df = binning(application_df, \"APPLICATION_TYPE\", 500)\n",
    "\n",
    "# Look at CLASSIFICATION value counts for binning\n",
    "application_df = binning(application_df, \"CLASSIFICATION\", 1500)\n",
    "\n",
    "# Look at INCOME_AMT value counts for binning\n",
    "# application_df = binning(application_df, \"INCOME_AMT\", 500)\n",
    "# Tested binning \"INCOME_AMT\" column, but did not improve accuracy\n",
    "\n",
    "# Generate our categorical variable lists\n",
    "application_cat = list(application_df.dtypes[application_df.dtypes == \"object\"].index)\n",
    "\n",
    "# Create a OneHotEncoder instance\n",
    "enc = OneHotEncoder(sparse=False)\n",
    "\n",
    "# Fit and transform the OneHotEncoder using the categorical variable list\n",
    "encode_df = pd.DataFrame(enc.fit_transform(application_df[application_cat]))\n",
    "\n",
    "# Add the encoded variable names to the dataframe\n",
    "encode_df.columns = enc.get_feature_names(application_cat)\n",
    "\n",
    "# Merge one-hot encoded features and drop the originals\n",
    "application_df = application_df.merge(encode_df, left_index=True, right_index=True)\n",
    "application_df = application_df.drop(application_cat, 1)\n",
    "\n",
    "# Split our preprocessed data into our features and target arrays\n",
    "X = application_df.drop(\"IS_SUCCESSFUL\", 1).values\n",
    "y = application_df[\"IS_SUCCESSFUL\"].values\n",
    "\n",
    "# Split the preprocessed data into a training and testing dataset\n",
    "X_train, X_test, y_train, y_test = train_test_split(X, y, random_state=42)\n",
    "\n",
    "# Create a StandardScaler instances\n",
    "scaler = StandardScaler()\n",
    "\n",
    "# Fit the StandardScaler\n",
    "X_scaler = scaler.fit(X_train)\n",
    "\n",
    "# Scale the data\n",
    "X_train_scaled = X_scaler.transform(X_train)\n",
    "X_test_scaled = X_scaler.transform(X_test)"
   ]
  },
  {
   "cell_type": "code",
   "execution_count": 5,
   "id": "e2fb5aea",
   "metadata": {},
   "outputs": [],
   "source": [
    "# Create a `Hyperband()` tuner instance\n",
    "tuner = kt.Hyperband(\n",
    "    create_model,\n",
    "    objective=\"val_accuracy\",\n",
    "    max_epochs=100,\n",
    "    hyperband_iterations=1)"
   ]
  },
  {
   "cell_type": "code",
   "execution_count": 6,
   "id": "2bdd0cdf",
   "metadata": {
    "scrolled": true
   },
   "outputs": [
    {
     "name": "stdout",
     "output_type": "stream",
     "text": [
      "Trial 254 Complete [00h 01m 59s]\n",
      "val_accuracy: 0.7309620976448059\n",
      "\n",
      "Best val_accuracy So Far: 0.7345772385597229\n",
      "Total elapsed time: 00h 58m 46s\n",
      "INFO:tensorflow:Oracle triggered exit\n"
     ]
    }
   ],
   "source": [
    "# Run the kerastuner search for best hyperparameters\n",
    "tuner.search(X_train_scaled, y_train, epochs=100, validation_data=(X_test_scaled, y_test), verbose=2)"
   ]
  },
  {
   "cell_type": "code",
   "execution_count": 7,
   "id": "5784a2f2",
   "metadata": {
    "scrolled": true
   },
   "outputs": [
    {
     "data": {
      "text/plain": [
       "{'activation': 'relu',\n",
       " 'first_units': 150,\n",
       " 'num_layers': 3,\n",
       " 'units_0': 85,\n",
       " 'units_1': 25,\n",
       " 'units_2': 100,\n",
       " 'units_3': 30,\n",
       " 'units_4': 45,\n",
       " 'units_5': 100,\n",
       " 'tuner/epochs': 12,\n",
       " 'tuner/initial_epoch': 4,\n",
       " 'tuner/bracket': 4,\n",
       " 'tuner/round': 2,\n",
       " 'tuner/trial_id': '5bd633c0a279f6eae4799ee4f02f9d3c'}"
      ]
     },
     "execution_count": 7,
     "metadata": {},
     "output_type": "execute_result"
    }
   ],
   "source": [
    "# Get best model hyperparameters\n",
    "best_hyper = tuner.get_best_hyperparameters(1)[0]\n",
    "best_hyper.values"
   ]
  },
  {
   "cell_type": "code",
   "execution_count": 8,
   "id": "0d17c77c",
   "metadata": {},
   "outputs": [
    {
     "name": "stdout",
     "output_type": "stream",
     "text": [
      "268/268 - 0s - loss: 0.5527 - accuracy: 0.7346 - 339ms/epoch - 1ms/step\n",
      "Loss: 0.5526638627052307, Accuracy: 0.7345772385597229\n"
     ]
    }
   ],
   "source": [
    "# Evaluate best model against full test data\n",
    "best_model = tuner.get_best_models(1)[0]\n",
    "model_loss, model_accuracy = best_model.evaluate(X_test_scaled,y_test,verbose=2)\n",
    "print(f\"Loss: {model_loss}, Accuracy: {model_accuracy}\")"
   ]
  },
  {
   "cell_type": "code",
   "execution_count": 9,
   "id": "b9caa0ba",
   "metadata": {},
   "outputs": [
    {
     "name": "stdout",
     "output_type": "stream",
     "text": [
      "Model: \"sequential\"\n",
      "_________________________________________________________________\n",
      " Layer (type)                Output Shape              Param #   \n",
      "=================================================================\n",
      " dense (Dense)               (None, 150)               6600      \n",
      "                                                                 \n",
      " dense_1 (Dense)             (None, 85)                12835     \n",
      "                                                                 \n",
      " dense_2 (Dense)             (None, 25)                2150      \n",
      "                                                                 \n",
      " dense_3 (Dense)             (None, 100)               2600      \n",
      "                                                                 \n",
      " dense_4 (Dense)             (None, 1)                 101       \n",
      "                                                                 \n",
      "=================================================================\n",
      "Total params: 24,286\n",
      "Trainable params: 24,286\n",
      "Non-trainable params: 0\n",
      "_________________________________________________________________\n"
     ]
    }
   ],
   "source": [
    "best_model.summary()"
   ]
  },
  {
   "cell_type": "code",
   "execution_count": 10,
   "id": "9ee94153",
   "metadata": {},
   "outputs": [],
   "source": [
    "# Import checkpoint dependencies\n",
    "import os\n",
    "from tensorflow.keras.callbacks import ModelCheckpoint\n",
    "\n",
    "# Define the checkpoint path and filenames\n",
    "os.makedirs(\"checkpoints/\",exist_ok=True)\n",
    "checkpoint_path = \"checkpoints/weights.{epoch:02d}.hdf5\""
   ]
  },
  {
   "cell_type": "code",
   "execution_count": 11,
   "id": "810f9c3b",
   "metadata": {},
   "outputs": [
    {
     "name": "stdout",
     "output_type": "stream",
     "text": [
      "WARNING:tensorflow:Detecting that an object or model or tf.train.Checkpoint is being deleted with unrestored values. See the following logs for the specific values in question. To silence these warnings, use `status.expect_partial()`. See https://www.tensorflow.org/api_docs/python/tf/train/Checkpoint#restorefor details about the status object returned by the restore function.\n",
      "WARNING:tensorflow:Value in checkpoint could not be found in the restored object: (root).optimizer.iter\n",
      "WARNING:tensorflow:Value in checkpoint could not be found in the restored object: (root).optimizer.beta_1\n",
      "WARNING:tensorflow:Value in checkpoint could not be found in the restored object: (root).optimizer.beta_2\n",
      "WARNING:tensorflow:Value in checkpoint could not be found in the restored object: (root).optimizer.decay\n",
      "WARNING:tensorflow:Value in checkpoint could not be found in the restored object: (root).optimizer.learning_rate\n"
     ]
    }
   ],
   "source": [
    "best_model.compile(loss=\"binary_crossentropy\", optimizer=\"adam\", metrics=[\"accuracy\"])"
   ]
  },
  {
   "cell_type": "code",
   "execution_count": 12,
   "id": "22a50d0d",
   "metadata": {},
   "outputs": [
    {
     "name": "stdout",
     "output_type": "stream",
     "text": [
      "WARNING:tensorflow:`period` argument is deprecated. Please use `save_freq` to specify the frequency in number of batches seen.\n"
     ]
    }
   ],
   "source": [
    "# Create a callback that saves the model's weights every epoch\n",
    "cp_callback = ModelCheckpoint(\n",
    "    filepath=checkpoint_path,\n",
    "    verbose=1,\n",
    "    save_weights_only=True,\n",
    "    save_freq='epoch',\n",
    "    period=5)"
   ]
  },
  {
   "cell_type": "code",
   "execution_count": 13,
   "id": "334f2b94",
   "metadata": {},
   "outputs": [
    {
     "name": "stdout",
     "output_type": "stream",
     "text": [
      "Epoch 1/100\n",
      "804/804 [==============================] - 2s 2ms/step - loss: 0.5497 - accuracy: 0.7322 - val_loss: 0.5529 - val_accuracy: 0.7301\n",
      "Epoch 2/100\n",
      "804/804 [==============================] - 1s 2ms/step - loss: 0.5469 - accuracy: 0.7332 - val_loss: 0.5559 - val_accuracy: 0.7296\n",
      "Epoch 3/100\n",
      "804/804 [==============================] - 1s 2ms/step - loss: 0.5463 - accuracy: 0.7326 - val_loss: 0.5557 - val_accuracy: 0.7324\n",
      "Epoch 4/100\n",
      "804/804 [==============================] - 1s 2ms/step - loss: 0.5458 - accuracy: 0.7342 - val_loss: 0.5547 - val_accuracy: 0.7301\n",
      "Epoch 5/100\n",
      "765/804 [===========================>..] - ETA: 0s - loss: 0.5449 - accuracy: 0.7342\n",
      "Epoch 5: saving model to checkpoints\\weights.05.hdf5\n",
      "804/804 [==============================] - 1s 2ms/step - loss: 0.5450 - accuracy: 0.7343 - val_loss: 0.5531 - val_accuracy: 0.7315\n",
      "Epoch 6/100\n",
      "804/804 [==============================] - 1s 2ms/step - loss: 0.5455 - accuracy: 0.7337 - val_loss: 0.5567 - val_accuracy: 0.7252\n",
      "Epoch 7/100\n",
      "804/804 [==============================] - 1s 2ms/step - loss: 0.5443 - accuracy: 0.7342 - val_loss: 0.5568 - val_accuracy: 0.7299\n",
      "Epoch 8/100\n",
      "804/804 [==============================] - 1s 2ms/step - loss: 0.5438 - accuracy: 0.7341 - val_loss: 0.5561 - val_accuracy: 0.7304\n",
      "Epoch 9/100\n",
      "804/804 [==============================] - 1s 2ms/step - loss: 0.5429 - accuracy: 0.7351 - val_loss: 0.5563 - val_accuracy: 0.7249\n",
      "Epoch 10/100\n",
      "770/804 [===========================>..] - ETA: 0s - loss: 0.5424 - accuracy: 0.7352\n",
      "Epoch 10: saving model to checkpoints\\weights.10.hdf5\n",
      "804/804 [==============================] - 1s 2ms/step - loss: 0.5428 - accuracy: 0.7349 - val_loss: 0.5531 - val_accuracy: 0.7284\n",
      "Epoch 11/100\n",
      "804/804 [==============================] - 1s 2ms/step - loss: 0.5426 - accuracy: 0.7359 - val_loss: 0.5537 - val_accuracy: 0.7284\n",
      "Epoch 12/100\n",
      "804/804 [==============================] - 1s 2ms/step - loss: 0.5419 - accuracy: 0.7369 - val_loss: 0.5536 - val_accuracy: 0.7264\n",
      "Epoch 13/100\n",
      "804/804 [==============================] - 1s 2ms/step - loss: 0.5423 - accuracy: 0.7352 - val_loss: 0.5545 - val_accuracy: 0.7285\n",
      "Epoch 14/100\n",
      "804/804 [==============================] - 1s 2ms/step - loss: 0.5413 - accuracy: 0.7355 - val_loss: 0.5551 - val_accuracy: 0.7291\n",
      "Epoch 15/100\n",
      "781/804 [============================>.] - ETA: 0s - loss: 0.5403 - accuracy: 0.7372\n",
      "Epoch 15: saving model to checkpoints\\weights.15.hdf5\n",
      "804/804 [==============================] - 1s 2ms/step - loss: 0.5409 - accuracy: 0.7364 - val_loss: 0.5558 - val_accuracy: 0.7294\n",
      "Epoch 16/100\n",
      "804/804 [==============================] - 1s 2ms/step - loss: 0.5406 - accuracy: 0.7371 - val_loss: 0.5579 - val_accuracy: 0.7258\n",
      "Epoch 17/100\n",
      "804/804 [==============================] - 1s 2ms/step - loss: 0.5404 - accuracy: 0.7354 - val_loss: 0.5580 - val_accuracy: 0.7273\n",
      "Epoch 18/100\n",
      "804/804 [==============================] - 1s 2ms/step - loss: 0.5401 - accuracy: 0.7365 - val_loss: 0.5577 - val_accuracy: 0.7300\n",
      "Epoch 19/100\n",
      "804/804 [==============================] - 1s 2ms/step - loss: 0.5398 - accuracy: 0.7365 - val_loss: 0.5579 - val_accuracy: 0.7277\n",
      "Epoch 20/100\n",
      "780/804 [============================>.] - ETA: 0s - loss: 0.5388 - accuracy: 0.7386\n",
      "Epoch 20: saving model to checkpoints\\weights.20.hdf5\n",
      "804/804 [==============================] - 1s 2ms/step - loss: 0.5396 - accuracy: 0.7381 - val_loss: 0.5559 - val_accuracy: 0.7275\n",
      "Epoch 21/100\n",
      "804/804 [==============================] - 1s 2ms/step - loss: 0.5392 - accuracy: 0.7373 - val_loss: 0.5578 - val_accuracy: 0.7282\n",
      "Epoch 22/100\n",
      "804/804 [==============================] - 1s 2ms/step - loss: 0.5395 - accuracy: 0.7376 - val_loss: 0.5558 - val_accuracy: 0.7291\n",
      "Epoch 23/100\n",
      "804/804 [==============================] - 1s 2ms/step - loss: 0.5389 - accuracy: 0.7374 - val_loss: 0.5586 - val_accuracy: 0.7300\n",
      "Epoch 24/100\n",
      "804/804 [==============================] - 1s 2ms/step - loss: 0.5393 - accuracy: 0.7376 - val_loss: 0.5576 - val_accuracy: 0.7289\n",
      "Epoch 25/100\n",
      "774/804 [===========================>..] - ETA: 0s - loss: 0.5373 - accuracy: 0.7371\n",
      "Epoch 25: saving model to checkpoints\\weights.25.hdf5\n",
      "804/804 [==============================] - 1s 2ms/step - loss: 0.5379 - accuracy: 0.7366 - val_loss: 0.5585 - val_accuracy: 0.7252\n",
      "Epoch 26/100\n",
      "804/804 [==============================] - 1s 2ms/step - loss: 0.5380 - accuracy: 0.7379 - val_loss: 0.5606 - val_accuracy: 0.7290\n",
      "Epoch 27/100\n",
      "804/804 [==============================] - 1s 2ms/step - loss: 0.5380 - accuracy: 0.7384 - val_loss: 0.5586 - val_accuracy: 0.7276\n",
      "Epoch 28/100\n",
      "804/804 [==============================] - 1s 2ms/step - loss: 0.5376 - accuracy: 0.7383 - val_loss: 0.5592 - val_accuracy: 0.7300\n",
      "Epoch 29/100\n",
      "804/804 [==============================] - 1s 2ms/step - loss: 0.5373 - accuracy: 0.7379 - val_loss: 0.5578 - val_accuracy: 0.7287\n",
      "Epoch 30/100\n",
      "771/804 [===========================>..] - ETA: 0s - loss: 0.5378 - accuracy: 0.7376\n",
      "Epoch 30: saving model to checkpoints\\weights.30.hdf5\n",
      "804/804 [==============================] - 1s 2ms/step - loss: 0.5375 - accuracy: 0.7378 - val_loss: 0.5599 - val_accuracy: 0.7287\n",
      "Epoch 31/100\n",
      "804/804 [==============================] - 1s 2ms/step - loss: 0.5369 - accuracy: 0.7389 - val_loss: 0.5584 - val_accuracy: 0.7290\n",
      "Epoch 32/100\n",
      "804/804 [==============================] - 1s 2ms/step - loss: 0.5373 - accuracy: 0.7385 - val_loss: 0.5620 - val_accuracy: 0.7266\n",
      "Epoch 33/100\n",
      "804/804 [==============================] - 1s 2ms/step - loss: 0.5374 - accuracy: 0.7378 - val_loss: 0.5595 - val_accuracy: 0.7286\n",
      "Epoch 34/100\n",
      "804/804 [==============================] - 1s 2ms/step - loss: 0.5370 - accuracy: 0.7374 - val_loss: 0.5607 - val_accuracy: 0.7293\n",
      "Epoch 35/100\n",
      "782/804 [============================>.] - ETA: 0s - loss: 0.5364 - accuracy: 0.7391\n",
      "Epoch 35: saving model to checkpoints\\weights.35.hdf5\n",
      "804/804 [==============================] - 1s 2ms/step - loss: 0.5368 - accuracy: 0.7386 - val_loss: 0.5615 - val_accuracy: 0.7284\n",
      "Epoch 36/100\n",
      "804/804 [==============================] - 1s 2ms/step - loss: 0.5367 - accuracy: 0.7395 - val_loss: 0.5681 - val_accuracy: 0.7291\n",
      "Epoch 37/100\n",
      "804/804 [==============================] - 1s 2ms/step - loss: 0.5369 - accuracy: 0.7385 - val_loss: 0.5644 - val_accuracy: 0.7285\n",
      "Epoch 38/100\n",
      "804/804 [==============================] - 1s 2ms/step - loss: 0.5365 - accuracy: 0.7397 - val_loss: 0.5640 - val_accuracy: 0.7277\n",
      "Epoch 39/100\n",
      "804/804 [==============================] - 1s 2ms/step - loss: 0.5362 - accuracy: 0.7391 - val_loss: 0.5621 - val_accuracy: 0.7272\n",
      "Epoch 40/100\n",
      "800/804 [============================>.] - ETA: 0s - loss: 0.5362 - accuracy: 0.7395\n",
      "Epoch 40: saving model to checkpoints\\weights.40.hdf5\n",
      "804/804 [==============================] - 1s 2ms/step - loss: 0.5364 - accuracy: 0.7395 - val_loss: 0.5608 - val_accuracy: 0.7282\n",
      "Epoch 41/100\n",
      "804/804 [==============================] - 1s 2ms/step - loss: 0.5360 - accuracy: 0.7392 - val_loss: 0.5619 - val_accuracy: 0.7286\n",
      "Epoch 42/100\n",
      "804/804 [==============================] - 1s 2ms/step - loss: 0.5356 - accuracy: 0.7391 - val_loss: 0.5665 - val_accuracy: 0.7272\n",
      "Epoch 43/100\n",
      "804/804 [==============================] - 1s 2ms/step - loss: 0.5358 - accuracy: 0.7383 - val_loss: 0.5646 - val_accuracy: 0.7293\n",
      "Epoch 44/100\n",
      "804/804 [==============================] - 1s 2ms/step - loss: 0.5348 - accuracy: 0.7404 - val_loss: 0.5734 - val_accuracy: 0.7282\n",
      "Epoch 45/100\n",
      "803/804 [============================>.] - ETA: 0s - loss: 0.5353 - accuracy: 0.7392\n",
      "Epoch 45: saving model to checkpoints\\weights.45.hdf5\n",
      "804/804 [==============================] - 1s 2ms/step - loss: 0.5354 - accuracy: 0.7392 - val_loss: 0.5649 - val_accuracy: 0.7286\n",
      "Epoch 46/100\n",
      "804/804 [==============================] - 1s 2ms/step - loss: 0.5352 - accuracy: 0.7395 - val_loss: 0.5669 - val_accuracy: 0.7286\n",
      "Epoch 47/100\n",
      "804/804 [==============================] - 1s 2ms/step - loss: 0.5347 - accuracy: 0.7396 - val_loss: 0.5690 - val_accuracy: 0.7293\n",
      "Epoch 48/100\n",
      "804/804 [==============================] - 1s 2ms/step - loss: 0.5352 - accuracy: 0.7392 - val_loss: 0.5671 - val_accuracy: 0.7290\n",
      "Epoch 49/100\n"
     ]
    },
    {
     "name": "stdout",
     "output_type": "stream",
     "text": [
      "804/804 [==============================] - 1s 2ms/step - loss: 0.5350 - accuracy: 0.7380 - val_loss: 0.5640 - val_accuracy: 0.7285\n",
      "Epoch 50/100\n",
      "774/804 [===========================>..] - ETA: 0s - loss: 0.5345 - accuracy: 0.7404\n",
      "Epoch 50: saving model to checkpoints\\weights.50.hdf5\n",
      "804/804 [==============================] - 1s 2ms/step - loss: 0.5348 - accuracy: 0.7401 - val_loss: 0.5656 - val_accuracy: 0.7271\n",
      "Epoch 51/100\n",
      "804/804 [==============================] - 1s 2ms/step - loss: 0.5347 - accuracy: 0.7388 - val_loss: 0.5632 - val_accuracy: 0.7280\n",
      "Epoch 52/100\n",
      "804/804 [==============================] - 1s 2ms/step - loss: 0.5379 - accuracy: 0.7390 - val_loss: 0.5670 - val_accuracy: 0.7279\n",
      "Epoch 53/100\n",
      "804/804 [==============================] - 1s 2ms/step - loss: 0.5344 - accuracy: 0.7401 - val_loss: 0.5712 - val_accuracy: 0.7270\n",
      "Epoch 54/100\n",
      "804/804 [==============================] - 1s 2ms/step - loss: 0.5344 - accuracy: 0.7376 - val_loss: 0.5728 - val_accuracy: 0.7270\n",
      "Epoch 55/100\n",
      "769/804 [===========================>..] - ETA: 0s - loss: 0.5347 - accuracy: 0.7393\n",
      "Epoch 55: saving model to checkpoints\\weights.55.hdf5\n",
      "804/804 [==============================] - 1s 2ms/step - loss: 0.5343 - accuracy: 0.7400 - val_loss: 0.5707 - val_accuracy: 0.7259\n",
      "Epoch 56/100\n",
      "804/804 [==============================] - 1s 2ms/step - loss: 0.5341 - accuracy: 0.7395 - val_loss: 0.5751 - val_accuracy: 0.7269\n",
      "Epoch 57/100\n",
      "804/804 [==============================] - 1s 2ms/step - loss: 0.5340 - accuracy: 0.7402 - val_loss: 0.5719 - val_accuracy: 0.7273\n",
      "Epoch 58/100\n",
      "804/804 [==============================] - 1s 2ms/step - loss: 0.5344 - accuracy: 0.7384 - val_loss: 0.5718 - val_accuracy: 0.7279\n",
      "Epoch 59/100\n",
      "804/804 [==============================] - 1s 2ms/step - loss: 0.5342 - accuracy: 0.7403 - val_loss: 0.5773 - val_accuracy: 0.7228\n",
      "Epoch 60/100\n",
      "778/804 [============================>.] - ETA: 0s - loss: 0.5354 - accuracy: 0.7381\n",
      "Epoch 60: saving model to checkpoints\\weights.60.hdf5\n",
      "804/804 [==============================] - 1s 2ms/step - loss: 0.5349 - accuracy: 0.7384 - val_loss: 0.5717 - val_accuracy: 0.7280\n",
      "Epoch 61/100\n",
      "804/804 [==============================] - 1s 2ms/step - loss: 0.5338 - accuracy: 0.7398 - val_loss: 0.5717 - val_accuracy: 0.7287\n",
      "Epoch 62/100\n",
      "804/804 [==============================] - 1s 2ms/step - loss: 0.5343 - accuracy: 0.7396 - val_loss: 0.5756 - val_accuracy: 0.7285\n",
      "Epoch 63/100\n",
      "804/804 [==============================] - 1s 2ms/step - loss: 0.5334 - accuracy: 0.7402 - val_loss: 0.5788 - val_accuracy: 0.7280\n",
      "Epoch 64/100\n",
      "804/804 [==============================] - 1s 2ms/step - loss: 0.5342 - accuracy: 0.7399 - val_loss: 0.5801 - val_accuracy: 0.7285\n",
      "Epoch 65/100\n",
      "778/804 [============================>.] - ETA: 0s - loss: 0.5338 - accuracy: 0.7400\n",
      "Epoch 65: saving model to checkpoints\\weights.65.hdf5\n",
      "804/804 [==============================] - 1s 2ms/step - loss: 0.5335 - accuracy: 0.7401 - val_loss: 0.5730 - val_accuracy: 0.7285\n",
      "Epoch 66/100\n",
      "804/804 [==============================] - 1s 2ms/step - loss: 0.5337 - accuracy: 0.7411 - val_loss: 0.5765 - val_accuracy: 0.7291\n",
      "Epoch 67/100\n",
      "804/804 [==============================] - 1s 2ms/step - loss: 0.5331 - accuracy: 0.7402 - val_loss: 0.5820 - val_accuracy: 0.7277\n",
      "Epoch 68/100\n",
      "804/804 [==============================] - 1s 2ms/step - loss: 0.5345 - accuracy: 0.7394 - val_loss: 0.5724 - val_accuracy: 0.7290\n",
      "Epoch 69/100\n",
      "804/804 [==============================] - 1s 2ms/step - loss: 0.5331 - accuracy: 0.7406 - val_loss: 0.5797 - val_accuracy: 0.7290\n",
      "Epoch 70/100\n",
      "798/804 [============================>.] - ETA: 0s - loss: 0.5326 - accuracy: 0.7404\n",
      "Epoch 70: saving model to checkpoints\\weights.70.hdf5\n",
      "804/804 [==============================] - 1s 2ms/step - loss: 0.5325 - accuracy: 0.7406 - val_loss: 0.5811 - val_accuracy: 0.7282\n",
      "Epoch 71/100\n",
      "804/804 [==============================] - 1s 2ms/step - loss: 0.5344 - accuracy: 0.7395 - val_loss: 0.5734 - val_accuracy: 0.7276\n",
      "Epoch 72/100\n",
      "804/804 [==============================] - 1s 2ms/step - loss: 0.5335 - accuracy: 0.7396 - val_loss: 0.5766 - val_accuracy: 0.7306\n",
      "Epoch 73/100\n",
      "804/804 [==============================] - 1s 2ms/step - loss: 0.5338 - accuracy: 0.7398 - val_loss: 0.5738 - val_accuracy: 0.7287\n",
      "Epoch 74/100\n",
      "804/804 [==============================] - 1s 2ms/step - loss: 0.5326 - accuracy: 0.7409 - val_loss: 0.5843 - val_accuracy: 0.7298\n",
      "Epoch 75/100\n",
      "798/804 [============================>.] - ETA: 0s - loss: 0.5331 - accuracy: 0.7404\n",
      "Epoch 75: saving model to checkpoints\\weights.75.hdf5\n",
      "804/804 [==============================] - 1s 2ms/step - loss: 0.5332 - accuracy: 0.7404 - val_loss: 0.5738 - val_accuracy: 0.7290\n",
      "Epoch 76/100\n",
      "804/804 [==============================] - 1s 2ms/step - loss: 0.5329 - accuracy: 0.7405 - val_loss: 0.5788 - val_accuracy: 0.7292\n",
      "Epoch 77/100\n",
      "804/804 [==============================] - 1s 2ms/step - loss: 0.5331 - accuracy: 0.7409 - val_loss: 0.5800 - val_accuracy: 0.7278\n",
      "Epoch 78/100\n",
      "804/804 [==============================] - 1s 2ms/step - loss: 0.5326 - accuracy: 0.7404 - val_loss: 0.5820 - val_accuracy: 0.7286\n",
      "Epoch 79/100\n",
      "804/804 [==============================] - 1s 2ms/step - loss: 0.5328 - accuracy: 0.7412 - val_loss: 0.5876 - val_accuracy: 0.7285\n",
      "Epoch 80/100\n",
      "769/804 [===========================>..] - ETA: 0s - loss: 0.5322 - accuracy: 0.7409\n",
      "Epoch 80: saving model to checkpoints\\weights.80.hdf5\n",
      "804/804 [==============================] - 1s 2ms/step - loss: 0.5326 - accuracy: 0.7408 - val_loss: 0.5954 - val_accuracy: 0.7284\n",
      "Epoch 81/100\n",
      "804/804 [==============================] - 1s 2ms/step - loss: 0.5319 - accuracy: 0.7411 - val_loss: 0.5816 - val_accuracy: 0.7289\n",
      "Epoch 82/100\n",
      "804/804 [==============================] - 1s 2ms/step - loss: 0.5327 - accuracy: 0.7406 - val_loss: 0.5890 - val_accuracy: 0.7280\n",
      "Epoch 83/100\n",
      "804/804 [==============================] - 1s 2ms/step - loss: 0.5331 - accuracy: 0.7406 - val_loss: 0.5837 - val_accuracy: 0.7257\n",
      "Epoch 84/100\n",
      "804/804 [==============================] - 1s 2ms/step - loss: 0.5329 - accuracy: 0.7405 - val_loss: 0.5806 - val_accuracy: 0.7279\n",
      "Epoch 85/100\n",
      "798/804 [============================>.] - ETA: 0s - loss: 0.5325 - accuracy: 0.7402\n",
      "Epoch 85: saving model to checkpoints\\weights.85.hdf5\n",
      "804/804 [==============================] - 1s 2ms/step - loss: 0.5325 - accuracy: 0.7403 - val_loss: 0.5832 - val_accuracy: 0.7283\n",
      "Epoch 86/100\n",
      "804/804 [==============================] - 1s 2ms/step - loss: 0.5324 - accuracy: 0.7413 - val_loss: 0.5932 - val_accuracy: 0.7277\n",
      "Epoch 87/100\n",
      "804/804 [==============================] - 1s 2ms/step - loss: 0.5331 - accuracy: 0.7402 - val_loss: 0.5753 - val_accuracy: 0.7291\n",
      "Epoch 88/100\n",
      "804/804 [==============================] - 1s 2ms/step - loss: 0.5330 - accuracy: 0.7399 - val_loss: 0.5798 - val_accuracy: 0.7287\n",
      "Epoch 89/100\n",
      "804/804 [==============================] - 1s 2ms/step - loss: 0.5332 - accuracy: 0.7411 - val_loss: 0.5860 - val_accuracy: 0.7289\n",
      "Epoch 90/100\n",
      "781/804 [============================>.] - ETA: 0s - loss: 0.5314 - accuracy: 0.7407\n",
      "Epoch 90: saving model to checkpoints\\weights.90.hdf5\n",
      "804/804 [==============================] - 1s 2ms/step - loss: 0.5319 - accuracy: 0.7402 - val_loss: 0.5909 - val_accuracy: 0.7284\n",
      "Epoch 91/100\n",
      "804/804 [==============================] - 1s 2ms/step - loss: 0.5324 - accuracy: 0.7392 - val_loss: 0.5890 - val_accuracy: 0.7303\n",
      "Epoch 92/100\n",
      "804/804 [==============================] - 1s 2ms/step - loss: 0.5320 - accuracy: 0.7411 - val_loss: 0.5968 - val_accuracy: 0.7273\n",
      "Epoch 93/100\n",
      "804/804 [==============================] - 1s 2ms/step - loss: 0.5336 - accuracy: 0.7400 - val_loss: 0.5745 - val_accuracy: 0.7290\n",
      "Epoch 94/100\n",
      "804/804 [==============================] - 1s 2ms/step - loss: 0.5335 - accuracy: 0.7407 - val_loss: 0.5866 - val_accuracy: 0.7293\n",
      "Epoch 95/100\n",
      "796/804 [============================>.] - ETA: 0s - loss: 0.5313 - accuracy: 0.7411\n",
      "Epoch 95: saving model to checkpoints\\weights.95.hdf5\n",
      "804/804 [==============================] - 1s 2ms/step - loss: 0.5319 - accuracy: 0.7406 - val_loss: 0.5876 - val_accuracy: 0.7291\n",
      "Epoch 96/100\n"
     ]
    },
    {
     "name": "stdout",
     "output_type": "stream",
     "text": [
      "804/804 [==============================] - 1s 2ms/step - loss: 0.5322 - accuracy: 0.7411 - val_loss: 0.5943 - val_accuracy: 0.7297\n",
      "Epoch 97/100\n",
      "804/804 [==============================] - 1s 2ms/step - loss: 0.5328 - accuracy: 0.7404 - val_loss: 0.5924 - val_accuracy: 0.7307\n",
      "Epoch 98/100\n",
      "804/804 [==============================] - 1s 2ms/step - loss: 0.5337 - accuracy: 0.7410 - val_loss: 0.5928 - val_accuracy: 0.7272\n",
      "Epoch 99/100\n",
      "804/804 [==============================] - 1s 2ms/step - loss: 0.5322 - accuracy: 0.7408 - val_loss: 0.5962 - val_accuracy: 0.7303\n",
      "Epoch 100/100\n",
      "776/804 [===========================>..] - ETA: 0s - loss: 0.5333 - accuracy: 0.7398\n",
      "Epoch 100: saving model to checkpoints\\weights.100.hdf5\n",
      "804/804 [==============================] - 1s 2ms/step - loss: 0.5321 - accuracy: 0.7411 - val_loss: 0.6015 - val_accuracy: 0.7301\n"
     ]
    }
   ],
   "source": [
    "# Train the model\n",
    "fit_model = best_model.fit(X_train_scaled, y_train, epochs=100, callbacks=[cp_callback], validation_data=(X_test_scaled, y_test))"
   ]
  },
  {
   "cell_type": "code",
   "execution_count": 14,
   "id": "ffa18043",
   "metadata": {},
   "outputs": [
    {
     "name": "stdout",
     "output_type": "stream",
     "text": [
      "268/268 - 0s - loss: 0.6015 - accuracy: 0.7301 - 219ms/epoch - 819us/step\n",
      "Loss: 0.6014856100082397, Accuracy: 0.7301457524299622\n"
     ]
    }
   ],
   "source": [
    "# Evaluate the model using the test data\n",
    "model_loss, model_accuracy = best_model.evaluate(X_test_scaled,y_test,verbose=2)\n",
    "print(f\"Loss: {model_loss}, Accuracy: {model_accuracy}\")"
   ]
  },
  {
   "cell_type": "code",
   "execution_count": 16,
   "id": "a3ef698d",
   "metadata": {},
   "outputs": [],
   "source": [
    "# Restore the model weights\n",
    "best_model.load_weights(\"checkpoints/weights.25.hdf5\")\n",
    "\n",
    "# Export our model to HDF5 file\n",
    "best_model.save(\"AlphabetSoupCharity_Optimization.h5\")"
   ]
  },
  {
   "cell_type": "code",
   "execution_count": null,
   "id": "a5386318",
   "metadata": {},
   "outputs": [],
   "source": []
  }
 ],
 "metadata": {
  "kernelspec": {
   "display_name": "PythonData",
   "language": "python",
   "name": "pythondata"
  },
  "language_info": {
   "codemirror_mode": {
    "name": "ipython",
    "version": 3
   },
   "file_extension": ".py",
   "mimetype": "text/x-python",
   "name": "python",
   "nbconvert_exporter": "python",
   "pygments_lexer": "ipython3",
   "version": "3.9.4"
  }
 },
 "nbformat": 4,
 "nbformat_minor": 5
}
